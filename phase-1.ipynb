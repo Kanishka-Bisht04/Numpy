{
 "cells": [
  {
   "cell_type": "markdown",
   "id": "aedbb9c1",
   "metadata": {},
   "source": [
    "## NUMPY array and basics"
   ]
  },
  {
   "cell_type": "code",
   "execution_count": 2,
   "id": "fb26797b",
   "metadata": {},
   "outputs": [],
   "source": [
    "import numpy as np"
   ]
  },
  {
   "cell_type": "code",
   "execution_count": 3,
   "id": "74ca0714",
   "metadata": {},
   "outputs": [
    {
     "name": "stdout",
     "output_type": "stream",
     "text": [
      "1D array:  [1 2 3 4 5]\n",
      "2D array:  [[1 2 3]\n",
      " [4 5 6]]\n"
     ]
    }
   ],
   "source": [
    "arr_1d = np.array([1,2,3,4,5])\n",
    "print(\"1D array: \",arr_1d)\n",
    "\n",
    "\n",
    "arr_2d =np.array([[1,2,3],[4,5,6]])\n",
    "print(\"2D array: \",arr_2d)"
   ]
  },
  {
   "cell_type": "markdown",
   "id": "360c1ccf",
   "metadata": {},
   "source": [
    "### List Vs Numpy array"
   ]
  },
  {
   "cell_type": "code",
   "execution_count": null,
   "id": "4d021961",
   "metadata": {},
   "outputs": [
    {
     "name": "stdout",
     "output_type": "stream",
     "text": [
      "Python list multiplication [1, 2, 3, 1, 2, 3]\n",
      "Python array multiplication [2 4 6]\n",
      "\n",
      " list operation time:  1.0042424201965332\n",
      "\n",
      " Numpy operation time:  0.06734108924865723\n"
     ]
    }
   ],
   "source": [
    "py_list = [1,2,3]\n",
    "print(\"Python list multiplication\",py_list*2)\n",
    "\n",
    "np_array = np.array([1,2,3]) #element wise multipliction\n",
    "print(\"Python array multiplication\",np_array*2)\n",
    "\n",
    "\n",
    "import time\n",
    "start = time.time() #starting time \n",
    "py_list=[i*2 for i in range(10000000)] #list comprehension\n",
    "print(\"\\n list operation time: \",time.time()-start) #elapsed time \n",
    "\n",
    "\n",
    "start = time.time()\n",
    "np_array=np.arange(10000000)*2  #it creates a numpy array of integers from 0 to 9999999\n",
    "print(\"\\n Numpy operation time: \",time.time()-start)\n",
    "\n"
   ]
  },
  {
   "cell_type": "markdown",
   "id": "313b73ef",
   "metadata": {},
   "source": [
    "### Creating array from scratch\n"
   ]
  },
  {
   "cell_type": "code",
   "execution_count": 10,
   "id": "fd6f21c3",
   "metadata": {},
   "outputs": [
    {
     "name": "stdout",
     "output_type": "stream",
     "text": [
      "zeros array: \n",
      " [[0. 0. 0. 0.]\n",
      " [0. 0. 0. 0.]\n",
      " [0. 0. 0. 0.]]\n",
      "ones array: \n",
      " [[1. 1. 1. 1.]\n",
      " [1. 1. 1. 1.]\n",
      " [1. 1. 1. 1.]]\n",
      "full array: \n",
      " [[7 7]\n",
      " [7 7]]\n",
      "random array: \n",
      " [[0.31532458 0.1105262  0.48233687]\n",
      " [0.38719107 0.61318543 0.92966799]]\n",
      "sequence array: \n",
      " [0 2 4 6 8]\n"
     ]
    }
   ],
   "source": [
    "zeros = np.zeros((3,4))\n",
    "print(\"zeros array: \\n\",zeros)\n",
    "\n",
    "ones = np.ones((3,4))\n",
    "print(\"ones array: \\n\",ones)\n",
    "\n",
    "\n",
    "full = np.full((2,2),7)\n",
    "print(\"full array: \\n\",full)\n",
    "\n",
    "random = np.random.random((2,3))\n",
    "print(\"random array: \\n\",random)\n",
    "\n",
    "\n",
    "sequence = np.arange(0,10,2) # non inclusive outer boundary\n",
    "print(\"sequence array: \\n\",sequence)\n"
   ]
  },
  {
   "cell_type": "markdown",
   "id": "d442bed5",
   "metadata": {},
   "source": [
    "### Vector, Matrix and Tensor"
   ]
  },
  {
   "cell_type": "code",
   "execution_count": null,
   "id": "d971984e",
   "metadata": {},
   "outputs": [
    {
     "name": "stdout",
     "output_type": "stream",
     "text": [
      "Vector:  [1 2 3]\n",
      "Matrix:  [[1 2 3]\n",
      " [4 5 6]]\n",
      "Tensor:  [[[1 2]\n",
      "  [3 4]]\n",
      "\n",
      " [[5 6]\n",
      "  [7 8]]]\n"
     ]
    }
   ],
   "source": [
    "#A vector is a 1d array\n",
    "vector = np.array([1,2,3])\n",
    "print(\"Vector: \",vector)\n",
    "\n",
    "#A Matrices is a (2D array)\n",
    "matrix = np.array([[1,2,3],[4,5,6]])\n",
    "print(\"Matrix: \",matrix)\n",
    "\n",
    "#A tensor is just a multi-dimensional array.\n",
    "tensor = np.array([[[1,2],[3,4]],\n",
    "                   [[5,6],[7,8]]])\n",
    "print(\"Tensor: \",tensor)"
   ]
  },
  {
   "cell_type": "markdown",
   "id": "842e5282",
   "metadata": {},
   "source": [
    "### Array Properties\n"
   ]
  },
  {
   "cell_type": "code",
   "execution_count": null,
   "id": "132f45e1",
   "metadata": {},
   "outputs": [
    {
     "name": "stdout",
     "output_type": "stream",
     "text": [
      "Shape:  (2, 3)\n",
      "Dimensions:  2\n",
      "Size:  6\n",
      "DType:  int64\n"
     ]
    }
   ],
   "source": [
    "array = np.array([[1,2,3],\n",
    "                [4,5,6]])\n",
    "print(\"Shape: \",array.shape) #it gives rows and columns\n",
    "print(\"Dimensions: \",array.ndim) #1d array = dim = 1 , 2d array = dim = 2.\n",
    "print(\"Size: \",array.size) #total number of elements in the array. 2 rows 3 column = 2*3=6\n",
    "print(\"DType: \",array.dtype)#Shows the data type of the array's elements."
   ]
  },
  {
   "cell_type": "markdown",
   "id": "a5c0b44b",
   "metadata": {},
   "source": [
    "### Array Reshaping\n"
   ]
  },
  {
   "cell_type": "code",
   "execution_count": null,
   "id": "706c5327",
   "metadata": {},
   "outputs": [
    {
     "name": "stdout",
     "output_type": "stream",
     "text": [
      "Original Array:  [ 0  1  2  3  4  5  6  7  8  9 10 11]\n",
      "\n",
      " Reshaped Array:  [[ 0  1  2  3]\n",
      " [ 4  5  6  7]\n",
      " [ 8  9 10 11]]\n",
      "\n",
      " Flattened Array:  [ 0  1  2  3  4  5  6  7  8  9 10 11]\n",
      "\n",
      " Raveled Array:  [ 0  1  2  3  4  5  6  7  8  9 10 11]\n",
      "\n",
      " Transpose Array:  [[ 0  4  8]\n",
      " [ 1  5  9]\n",
      " [ 2  6 10]\n",
      " [ 3  7 11]]\n"
     ]
    }
   ],
   "source": [
    "arr=np.arange(12)\n",
    "print(\"Original Array: \",arr)\n",
    "\n",
    "reshaped = arr.reshape((3,4))\n",
    "print(\"\\n Reshaped Array: \",reshaped)\n",
    "\n",
    "# it returns a copy of the original array\n",
    "flattended = reshaped.flatten()\n",
    "print(\"\\n Flattened Array: \",flattended)\n",
    "\n",
    "\n",
    "# (returns view , instead of copy)\n",
    "#if you change the view, the original array is also changed, because both are sharing the same memory.\n",
    "raveled = reshaped.ravel()\n",
    "print(\"\\n Raveled Array: \",raveled)\n",
    "\n",
    "\n",
    "#Transpose\n",
    "#flipping a matrix rows into columns and vice versa\n",
    "transpose = reshaped.T  \n",
    "print(\"\\n Transpose Array: \",transpose)\n",
    "\n",
    "\n",
    "\n",
    "\n"
   ]
  },
  {
   "cell_type": "code",
   "execution_count": null,
   "id": "a218a3e0",
   "metadata": {},
   "outputs": [],
   "source": []
  }
 ],
 "metadata": {
  "kernelspec": {
   "display_name": ".venv",
   "language": "python",
   "name": "python3"
  },
  "language_info": {
   "codemirror_mode": {
    "name": "ipython",
    "version": 3
   },
   "file_extension": ".py",
   "mimetype": "text/x-python",
   "name": "python",
   "nbconvert_exporter": "python",
   "pygments_lexer": "ipython3",
   "version": "3.13.3"
  }
 },
 "nbformat": 4,
 "nbformat_minor": 5
}
