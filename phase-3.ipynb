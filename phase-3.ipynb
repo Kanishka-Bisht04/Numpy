{
 "cells": [
  {
   "cell_type": "markdown",
   "id": "a5eb9f28",
   "metadata": {},
   "source": [
    "## Advance operation with Business examples"
   ]
  },
  {
   "cell_type": "code",
   "execution_count": 3,
   "id": "59441bc2",
   "metadata": {},
   "outputs": [],
   "source": [
    "import numpy as np\n",
    "import matplotlib.pyplot as plt"
   ]
  },
  {
   "cell_type": "code",
   "execution_count": 13,
   "id": "803e8f4d",
   "metadata": {},
   "outputs": [
    {
     "name": "stdout",
     "output_type": "stream",
     "text": [
      "=== zomato sales analysis\n",
      "\n",
      " Sales data shape:  (5, 5)\n",
      "\n",
      " Sample data for 1st 3 restaurants: [[     1 150000 180000 220000 250000]\n",
      " [     2 120000 140000 160000 190000]\n",
      " [     3 200000 230000 260000 300000]]\n",
      "\t \n",
      " [[150000 180000 220000 250000]\n",
      " [120000 140000 160000 190000]\n",
      " [200000 230000 260000 300000]\n",
      " [180000 210000 240000 270000]\n",
      " [160000 185000 205000 230000]]\n",
      "\n",
      " [200000 230000 260000 300000]\n",
      "\n",
      " [180000 140000 230000 210000 185000]\n",
      "\n",
      " [[150000 180000]\n",
      " [120000 140000]\n",
      " [200000 230000]\n",
      " [180000 210000]\n",
      " [160000 185000]]\n",
      "\n",
      " [[150000 180000 220000 250000]\n",
      " [120000 140000 160000 190000]\n",
      " [200000 230000 260000 300000]]\n"
     ]
    }
   ],
   "source": [
    "# Data structure: [restaurant_id, 2021, 2022, 2023]\n",
    "\n",
    "sales_data =np.array([\n",
    "    [1, 150000, 180000, 220000, 250000],   # paradise Biryani\n",
    "    [2, 120000, 140000, 160000, 190000],   # Beijing Bites\n",
    "    [3, 200000, 230000, 260000, 300000],   # Pizza Hut\n",
    "    [4, 180000, 210000, 240000, 270000],   # Burger Point\n",
    "    [5, 160000, 185000, 205000, 230000]    # Chai Point\n",
    "])\n",
    "\n",
    "print(\"=== zomato sales analysis\")\n",
    "print(\"\\n Sales data shape: \",sales_data.shape)\n",
    "print(\"\\n Sample data for 1st 3 restaurants:\",sales_data[0:3]) # or [:3]\n",
    "print (\"\\t \\n\",sales_data[:,1:])\n",
    "print(\"\\n\",sales_data[2, 1:])\n",
    "print(\"\\n\",sales_data[:, 2])\n",
    "print(\"\\n\",sales_data[:, 1:3])\n",
    "print(\"\\n\",sales_data[:3, 1:])\n"
   ]
  },
  {
   "cell_type": "markdown",
   "id": "498129b5",
   "metadata": {},
   "source": [
    "Until and unless I don’t use a comma inside [], NumPy treats my slice as row-based only.”\n",
    "\n",
    "📌 If there’s no comma → I’m only slicing rows\n",
    "📌 If there is a comma → I’m slicing rows (before comma) and columns (after comma)"
   ]
  },
  {
   "cell_type": "markdown",
   "id": "fd8d65e3",
   "metadata": {},
   "source": [
    "-------------------------------------------------------------------------------------------------"
   ]
  },
  {
   "cell_type": "code",
   "execution_count": 19,
   "id": "90e9d4dc",
   "metadata": {},
   "outputs": [
    {
     "name": "stdout",
     "output_type": "stream",
     "text": [
      "[ 810000  945000 1085000 1240000]\n",
      "4080000\n"
     ]
    }
   ],
   "source": [
    "# total sales per year\n",
    "year_wise_sum=np.sum(sales_data[:,1:], axis=0)\n",
    "print(year_wise_sum)\n",
    "\n",
    "total_sum=np.sum(year_wise_sum)\n",
    "print(total_sum)\n",
    "\n"
   ]
  },
  {
   "cell_type": "code",
   "execution_count": null,
   "id": "e35beeab",
   "metadata": {},
   "outputs": [
    {
     "name": "stdout",
     "output_type": "stream",
     "text": [
      "Minimum sales per restaurant:  [150000 120000 200000 180000 160000]\n",
      "Maximum sales per restaurant:  [200000 230000 260000 300000]\n",
      "Average sales per restaurant:  [200000. 152500. 247500. 225000. 195000.]\n",
      "Cumulative sales per restaurant:  [[150000 330000 550000 800000]\n",
      " [120000 260000 420000 610000]\n",
      " [200000 430000 690000 990000]\n",
      " [180000 390000 630000 900000]\n",
      " [160000 345000 550000 780000]]\n"
     ]
    }
   ],
   "source": [
    "# Minimum sales per restaurant\n",
    "min_sale = np.min(sales_data[:,1:],axis=1)\n",
    "print(\"Minimum sales per restaurant: \", min_sale) #1= Left to Right (along columns) 0 = Top to Bottom (along rows)\n",
    "\n",
    "\n",
    "# This means you're finding the minimum value across each row\n",
    "\n",
    "# Maximum sales per restaurant\n",
    "max_sale = np.max(sales_data[:,1:],axis=0)\n",
    "print(\"Maximum sales per restaurant: \", max_sale)\n",
    "\n",
    "#Average sales per restaurant\n",
    "\n",
    "avg_sale = np.mean(sales_data[:,1:],axis=1)\n",
    "print(\"Average sales per restaurant: \", avg_sale)\n",
    "\n",
    "#Cumulative sales per restaurant\n",
    "cum_sale = np.cumsum(sales_data[:,1:],axis=1)\n",
    "print(\"Cumulative sales per restaurant: \", cum_sale)\n",
    "\n",
    "\n",
    "\n"
   ]
  },
  {
   "cell_type": "markdown",
   "id": "cb2a887d",
   "metadata": {},
   "source": [
    "---------------------------------------------------------------------------------------\n",
    "\n",
    "About Cumulative Sum\n",
    "\n",
    "#Each number in the result is the sum of all the numbers before it (including itself)\n",
    "# Array: [10, 20, 30, 40]\n",
    "\n",
    "#Cumulative Sum Steps:\n",
    "\n",
    "#Step 1:           10                        → 10\n",
    "#Step 2:     10 + 20 = 30                    → 30\n",
    "#Step 3:     30 + 30 = 60                    → 60\n",
    "#Step 4:     60 + 40 = 100                   → 100\n",
    "\n",
    "#Final Cumulative Sum: [10, 30, 60, 100]"
   ]
  },
  {
   "cell_type": "markdown",
   "id": "02393255",
   "metadata": {},
   "source": [
    "-----------------------------------------------------------------------------------------------------"
   ]
  },
  {
   "cell_type": "markdown",
   "id": "98cab487",
   "metadata": {},
   "source": [
    "plotting"
   ]
  },
  {
   "cell_type": "code",
   "execution_count": 29,
   "id": "abc7d872",
   "metadata": {},
   "outputs": [
    {
     "data": {
      "image/png": "[encoded data removed]",
      "text/plain": [
       "<Figure size 1000x600 with 1 Axes>"
      ]
     },
     "metadata": {},
     "output_type": "display_data"
    }
   ],
   "source": [
    "plt.figure(figsize= (10, 6))\n",
    "plt.plot(np.mean(cum_sale, axis=0))\n",
    "plt.title(\"Average cumulative sales per year across all restaurants \")\n",
    "plt.xlabel(\"Years\")\n",
    "plt.ylabel(\"Sales\")\n",
    "plt.grid(True)\n",
    "plt.show()"
   ]
  },
  {
   "cell_type": "markdown",
   "id": "6c14ed8b",
   "metadata": {},
   "source": []
  },
  {
   "cell_type": "code",
   "execution_count": 5,
   "id": "86de4b82",
   "metadata": {},
   "outputs": [
    {
     "name": "stdout",
     "output_type": "stream",
     "text": [
      "Vector addition:  [ 7  9 11 13 15]\n",
      "\n",
      " Vector Multiplication:  [ 6 14 24 36 50]\n",
      "\n",
      "dot Product:  130\n",
      "Angle:  0.26554161733900966\n"
     ]
    }
   ],
   "source": [
    "vector1 = np.array([1,2,3,4,5])\n",
    "vector2 = np.array([6,7,8,9,10])\n",
    "\n",
    "print(\"Vector addition: \",vector1 + vector2)\n",
    "print(\"\\n Vector Multiplication: \", vector1 * vector2)\n",
    "print(\"\\ndot Product: \",np.dot(vector1,vector2))\n",
    "\n",
    "angle = np.arccos(np.dot(vector1,vector2) / (np.linalg.norm(vector1) * np.linalg.norm(vector2)))\n",
    "print(\"Angle: \",angle)"
   ]
  },
  {
   "cell_type": "code",
   "execution_count": 6,
   "id": "305fbf4f",
   "metadata": {},
   "outputs": [
    {
     "name": "stdout",
     "output_type": "stream",
     "text": [
      "Vectorized Upper:  ['CHINESE' 'KOREAN' 'ITALIAN' 'INDIAN' 'AMERICAN']\n"
     ]
    }
   ],
   "source": [
    "restaurant_types = np.array([\"Chinese\", \"Korean\", \"Italian\", \"Indian\", \"American\"])\n",
    "vectorized_upper = np.vectorize(str.upper)\n",
    "print(\"Vectorized Upper: \",vectorized_upper(restaurant_types))"
   ]
  },
  {
   "cell_type": "code",
   "execution_count": null,
   "id": "57206ad1",
   "metadata": {},
   "outputs": [],
   "source": []
  }
 ],
 "metadata": {
  "kernelspec": {
   "display_name": ".venv",
   "language": "python",
   "name": "python3"
  },
  "language_info": {
   "codemirror_mode": {
    "name": "ipython",
    "version": 3
   },
   "file_extension": ".py",
   "mimetype": "text/x-python",
   "name": "python",
   "nbconvert_exporter": "python",
   "pygments_lexer": "ipython3",
   "version": "3.13.3"
  }
 },
 "nbformat": 4,
 "nbformat_minor": 5
}
