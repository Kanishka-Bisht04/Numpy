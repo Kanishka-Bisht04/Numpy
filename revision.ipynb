{
 "cells": [
  {
   "cell_type": "code",
   "execution_count": 2,
   "id": "e3a82af8",
   "metadata": {},
   "outputs": [],
   "source": [
    "import numpy as np"
   ]
  },
  {
   "cell_type": "code",
   "execution_count": 8,
   "id": "df14557d",
   "metadata": {},
   "outputs": [
    {
     "name": "stdout",
     "output_type": "stream",
     "text": [
      "[1 2 3 4]\n",
      "[[1 2 3]\n",
      " [4 5 6]]\n",
      "[[[1 2 3]]\n",
      "\n",
      " [[7 8 9]]\n",
      "\n",
      " [[3 1 5]]]\n"
     ]
    }
   ],
   "source": [
    "arr = np.array([1,2,3,4])\n",
    "print(arr)\n",
    "\n",
    "arr_2d = np.array([[1,2,3],\n",
    "                   [4,5,6]])\n",
    "print(arr_2d)\n",
    "\n",
    "arr_tensor = np.array([\n",
    "    [[1,2,3]],\n",
    "    [[7,8,9]],\n",
    "    [[3,1,5]]\n",
    "])\n",
    "print(arr_tensor)"
   ]
  },
  {
   "cell_type": "code",
   "execution_count": 9,
   "id": "56f7f964",
   "metadata": {},
   "outputs": [
    {
     "name": "stdout",
     "output_type": "stream",
     "text": [
      "[1, 2, 3, 1, 2, 3]\n"
     ]
    }
   ],
   "source": [
    "list = [1,2,3]\n",
    "print(list * 2)"
   ]
  },
  {
   "cell_type": "code",
   "execution_count": 11,
   "id": "ce9c1e57",
   "metadata": {},
   "outputs": [
    {
     "name": "stdout",
     "output_type": "stream",
     "text": [
      "(2, 3)\n"
     ]
    }
   ],
   "source": [
    "print(arr_2d.shape)"
   ]
  },
  {
   "cell_type": "code",
   "execution_count": null,
   "id": "f618e6a8",
   "metadata": {},
   "outputs": [],
   "source": []
  }
 ],
 "metadata": {
  "kernelspec": {
   "display_name": ".venv",
   "language": "python",
   "name": "python3"
  },
  "language_info": {
   "codemirror_mode": {
    "name": "ipython",
    "version": 3
   },
   "file_extension": ".py",
   "mimetype": "text/x-python",
   "name": "python",
   "nbconvert_exporter": "python",
   "pygments_lexer": "ipython3",
   "version": "3.13.3"
  }
 },
 "nbformat": 4,
 "nbformat_minor": 5
}
