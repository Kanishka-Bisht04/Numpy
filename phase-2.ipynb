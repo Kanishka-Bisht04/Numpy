{
 "cells": [
  {
   "cell_type": "markdown",
   "id": "d07c8afd",
   "metadata": {},
   "source": [
    "## Numpy Array operations "
   ]
  },
  {
   "cell_type": "code",
   "execution_count": 1,
   "id": "160de2fe",
   "metadata": {},
   "outputs": [],
   "source": [
    "import numpy as np"
   ]
  },
  {
   "cell_type": "code",
   "execution_count": 5,
   "id": "04b9b9ec",
   "metadata": {},
   "outputs": [
    {
     "name": "stdout",
     "output_type": "stream",
     "text": [
      "Basic Slicing:  [3 4 5 6 7]\n",
      "With Steps:  [2 4 6 8]\n",
      "Negative Sicing:  8\n"
     ]
    }
   ],
   "source": [
    "arr = np.array([1,2,3,4,5,6,7,8,9,10])\n",
    "print(\"Basic Slicing: \",arr[2:7])\n",
    "print(\"With Steps: \",arr[1:9:2])\n",
    "print(\"Negative Sicing: \",arr[-3])"
   ]
  },
  {
   "cell_type": "code",
   "execution_count": null,
   "id": "08a8d3e5",
   "metadata": {},
   "outputs": [
    {
     "name": "stdout",
     "output_type": "stream",
     "text": [
      "Specific Element:  6\n",
      "Entire Row:  [4 5 6]\n",
      "Entire Column:  [2 5 8]\n"
     ]
    }
   ],
   "source": [
    "arr_2d = np.array([[1,2,3],    #this is 0th row\n",
    "                   [4,5,6],    #this is 1st row\n",
    "                   [7,8,9]])\n",
    "print(\"Specific Element: \",arr_2d[1,2])  # here [which row , element in that specific row]\n",
    "print(\"Entire Row: \",arr_2d[1])  # it gives entire row\n",
    "print(\"Entire Column: \",arr_2d[:,1]) # it gives entire column "
   ]
  },
  {
   "cell_type": "markdown",
   "id": "b44ed80d",
   "metadata": {},
   "source": [
    "## Sorting"
   ]
  },
  {
   "cell_type": "code",
   "execution_count": null,
   "id": "e054f443",
   "metadata": {},
   "outputs": [
    {
     "name": "stdout",
     "output_type": "stream",
     "text": [
      "Original array:  [3 1 4 1 5 9 2 6]\n",
      "Sorted array:  [1 1 2 3 4 5 6 9]\n",
      "Sorted 2D array by column:  [[1 1]\n",
      " [2 2]\n",
      " [3 3]]\n",
      "Sorted 2D array by row:  [[1 3]\n",
      " [1 2]\n",
      " [2 3]]\n"
     ]
    }
   ],
   "source": [
    "unsorted = np.array([3,1,4,1,5,9,2,6])\n",
    "print(\"Original array: \", unsorted)\n",
    "print(\"Sorted array: \",np.sort(unsorted))\n",
    "\n",
    "\n",
    "# another way \n",
    "arr_2d_unsorted = np.array([[3,1],\n",
    "                            [1,2],\n",
    "                            [2,3]])\n",
    "print(\"Sorted 2D array by column: \",np.sort(arr_2d_unsorted, axis=0))  # top to bottom sorting \n",
    "print(\"Sorted 2D array by row: \",np.sort(arr_2d_unsorted, axis=1)) # left to right sorting"
   ]
  },
  {
   "cell_type": "markdown",
   "id": "7b691eaa",
   "metadata": {},
   "source": [
    "## Filtering"
   ]
  },
  {
   "cell_type": "code",
   "execution_count": null,
   "id": "3e00055e",
   "metadata": {},
   "outputs": [
    {
     "name": "stdout",
     "output_type": "stream",
     "text": [
      "Even Numbers:  [ 2  4  6  8 10]\n"
     ]
    }
   ],
   "source": [
    "numbers = np.array([1,2,3,4,5,6,7,8,9,10])\n",
    "even_number = numbers[numbers % 2==0]\n",
    "print(\"Even Numbers: \",even_number)"
   ]
  },
  {
   "cell_type": "markdown",
   "id": "f4d10819",
   "metadata": {},
   "source": [
    "## Filter with mask"
   ]
  },
  {
   "cell_type": "code",
   "execution_count": 12,
   "id": "1add3af1",
   "metadata": {},
   "outputs": [
    {
     "name": "stdout",
     "output_type": "stream",
     "text": [
      "Numbers greater than 5:  [ 6  7  8  9 10]\n"
     ]
    }
   ],
   "source": [
    "mask = numbers > 5\n",
    "print(\"Numbers greater than 5: \",numbers[mask])  "
   ]
  },
  {
   "cell_type": "markdown",
   "id": "f9b3785d",
   "metadata": {},
   "source": [
    "## Fancy indexing vs np.where()"
   ]
  },
  {
   "cell_type": "code",
   "execution_count": 14,
   "id": "cdfd65a4",
   "metadata": {},
   "outputs": [
    {
     "name": "stdout",
     "output_type": "stream",
     "text": [
      "[1 3 5]\n",
      "Np where:  [ 6  7  8  9 10]\n"
     ]
    }
   ],
   "source": [
    "indices = [0,2,4]\n",
    "print(numbers[indices])\n",
    "\n",
    "\n",
    "where_result =np.where(numbers > 5)\n",
    "print(\"Np where: \",numbers[where_result])"
   ]
  },
  {
   "cell_type": "code",
   "execution_count": 20,
   "id": "78878f71",
   "metadata": {},
   "outputs": [
    {
     "name": "stdout",
     "output_type": "stream",
     "text": [
      "[ 1  2  3  4  5  6  7  8  9 10]\n",
      "[ 1  2  3  4  5  6  7  8  9 10]\n",
      "[ 1  2  3  4  5 12 14 16 18 20]\n",
      "[ 1  2  3  4  5 24 28 32 36 40]\n",
      "['false' 'false' 'false' 'false' 'false' 'true' 'true' 'true' 'true'\n",
      " 'true']\n"
     ]
    }
   ],
   "source": [
    "condition_array0 = np.where(numbers > 5, numbers , numbers)\n",
    "condition_array1 = np.where(numbers > 5, numbers * 1, numbers)\n",
    "condition_array2 = np.where(numbers > 5, numbers * 2, numbers)\n",
    "condition_array3 = np.where(numbers > 5, numbers * 4, numbers)\n",
    "condition_array4 = np.where(numbers > 5, \"true\", \"false\")\n",
    "print(condition_array0)\n",
    "print(condition_array1)\n",
    "print(condition_array2)\n",
    "print(condition_array3)\n",
    "print(condition_array4)\n",
    "\n",
    "\n",
    "# this is same like an if and else case\n",
    "#if(numbers > 5){\n",
    "#  numbers * 4  \n",
    "#}else{\n",
    "#   numbers \n",
    "#}"
   ]
  },
  {
   "cell_type": "markdown",
   "id": "1180e5f3",
   "metadata": {},
   "source": [
    "## Adding and Removing data"
   ]
  },
  {
   "cell_type": "code",
   "execution_count": 21,
   "id": "a639b98a",
   "metadata": {},
   "outputs": [
    {
     "name": "stdout",
     "output_type": "stream",
     "text": [
      "[5 7 9]\n",
      "[1 2 3 4 5 6]\n"
     ]
    }
   ],
   "source": [
    "arr1 =np.array([1,2,3])\n",
    "arr2 =np.array([4,5,6])\n",
    "\n",
    "combined = arr1+arr2  # its just add the entire array column wise \n",
    "print(combined)  # output: [5 7 9]\n",
    "\n",
    "combined_array = np.concatenate((arr1,arr2))\n",
    "print(combined_array)"
   ]
  },
  {
   "cell_type": "markdown",
   "id": "a4053001",
   "metadata": {},
   "source": [
    "## Array compatibility"
   ]
  },
  {
   "cell_type": "code",
   "execution_count": 23,
   "id": "2633e3a2",
   "metadata": {},
   "outputs": [
    {
     "name": "stdout",
     "output_type": "stream",
     "text": [
      "Compatibility Shapes:  True\n",
      "Compatibility Shapes:  False\n"
     ]
    }
   ],
   "source": [
    "a = np.array([1,2,3])\n",
    "b = np.array([4,5,6])\n",
    "c = np.array([7,8,9])\n",
    "d= np.array([10,11,12,13])\n",
    "print(\"Compatibility Shapes: \",a.shape == b.shape)\n",
    "print(\"Compatibility Shapes: \",a.shape == d.shape)"
   ]
  },
  {
   "cell_type": "code",
   "execution_count": 27,
   "id": "42378d7e",
   "metadata": {},
   "outputs": [
    {
     "name": "stdout",
     "output_type": "stream",
     "text": [
      "Original:  [[1 2]\n",
      " [3 4]]\n",
      "With new row:  [[1 2]\n",
      " [3 4]\n",
      " [5 6]]\n",
      "With new Col:  [[1 2 7]\n",
      " [3 4 8]]\n"
     ]
    }
   ],
   "source": [
    "original = np.array([[1,2],\n",
    "                     [3,4]])\n",
    "new_row = np.array([[5,6]])\n",
    "\n",
    "with_new_row = np.vstack((original, new_row))\n",
    "print(\"Original: \",original)\n",
    "print(\"With new row: \",with_new_row)\n",
    "\n",
    "new_col = np.array([[7],\n",
    "                   [8]])\n",
    "with_new_col = np.hstack((original , new_col))\n",
    "print(\"With new Col: \",with_new_col)"
   ]
  },
  {
   "cell_type": "markdown",
   "id": "4ca702a6",
   "metadata": {},
   "source": [
    "## Delete"
   ]
  },
  {
   "cell_type": "code",
   "execution_count": 29,
   "id": "1817e743",
   "metadata": {},
   "outputs": [
    {
     "name": "stdout",
     "output_type": "stream",
     "text": [
      "Array after deletion:  [1 2 4 5]\n"
     ]
    }
   ],
   "source": [
    "arr = np.array([1,2,3,4,5])\n",
    "deleted = np.delete(arr,2)\n",
    "print(\"Array after deletion: \",deleted)"
   ]
  },
  {
   "cell_type": "code",
   "execution_count": null,
   "id": "b8476c7e",
   "metadata": {},
   "outputs": [],
   "source": []
  }
 ],
 "metadata": {
  "kernelspec": {
   "display_name": ".venv",
   "language": "python",
   "name": "python3"
  },
  "language_info": {
   "codemirror_mode": {
    "name": "ipython",
    "version": 3
   },
   "file_extension": ".py",
   "mimetype": "text/x-python",
   "name": "python",
   "nbconvert_exporter": "python",
   "pygments_lexer": "ipython3",
   "version": "3.13.3"
  }
 },
 "nbformat": 4,
 "nbformat_minor": 5
}
